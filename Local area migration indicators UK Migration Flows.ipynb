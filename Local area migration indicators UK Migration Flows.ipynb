{
 "cells": [
  {
   "cell_type": "markdown",
   "metadata": {},
   "source": [
    "Local area migration indicators UK: Migration Flows"
   ]
  },
  {
   "cell_type": "code",
   "execution_count": 1,
   "metadata": {},
   "outputs": [],
   "source": [
    "from databaker.framework import *\n",
    "import pandas as pd"
   ]
  },
  {
   "cell_type": "code",
   "execution_count": 2,
   "metadata": {},
   "outputs": [],
   "source": [
    "from pathlib import Path\n",
    "\n",
    "sourceFolder = Path('in')\n",
    "sourceFolder.mkdir(exist_ok=True)\n",
    "\n",
    "%run lib/scrape_ons.ipynb\n",
    "\n",
    "metadata = scrape('https://www.ons.gov.uk/peoplepopulationandcommunity/populationandmigration/' \\\n",
    "                  'migrationwithintheuk/datasets/localareamigrationindicatorsunitedkingdom')"
   ]
  },
  {
   "cell_type": "code",
   "execution_count": 3,
   "metadata": {},
   "outputs": [
    {
     "name": "stdout",
     "output_type": "stream",
     "text": [
      "Loading in/data.xls which has size 1161705 bytes\n",
      "Table names: ['Migration Flows']\n"
     ]
    }
   ],
   "source": [
    "inputFile = sourceFolder / 'data.xls'\n",
    "response = session.get(metadata['fileURL'])\n",
    "with open(inputFile, 'wb') as f:\n",
    "  f.write(response.content)\n",
    "tab = loadxlstabs(inputFile, sheetids='Migration Flows')[0]"
   ]
  },
  {
   "cell_type": "code",
   "execution_count": null,
   "metadata": {
    "scrolled": true
   },
   "outputs": [],
   "source": [
    "observations = tab.excel_ref('C5').expand(DOWN).expand(RIGHT).is_not_blank()\n",
    "MigrationArea = tab.excel_ref('A5').expand(DOWN).is_not_blank()\n",
    "Period = tab.excel_ref('C1').expand(RIGHT).is_not_blank()\n",
    "Migration = tab.excel_ref('C2').expand(RIGHT).is_not_blank()\n",
    "Flow = tab.excel_ref('D3').expand(RIGHT).is_not_blank()\n",
    "migration = HDim(Migration,'Migration',CLOSEST,LEFT)\n",
    "migration.AddCellValueOverride('Internal Migration\\n (within UK)', 'Internal Migration (within UK)')\n",
    "\n",
    "Dimensions = [\n",
    "            HDim(Period,'Mid Year',CLOSEST,LEFT),\n",
    "            HDim(MigrationArea,'Geography', DIRECTLY, LEFT),\n",
    "            migration,\n",
    "            HDim(Flow,'Flow',DIRECTLY,ABOVE),\n",
    "            HDimConst('Measure Type', 'Count'),\n",
    "            HDimConst('Unit','People')\n",
    "            ]\n",
    "c1 = ConversionSegment(observations, Dimensions, processTIMEUNIT=True)\n",
    "#savepreviewhtml(c1)"
   ]
  },
  {
   "cell_type": "code",
   "execution_count": null,
   "metadata": {},
   "outputs": [],
   "source": [
    "new_table = c1.topandas()\n",
    "new_table"
   ]
  },
  {
   "cell_type": "markdown",
   "metadata": {},
   "source": [
    "We can drop the mid year population estimates, as these form a separate dataset."
   ]
  },
  {
   "cell_type": "code",
   "execution_count": null,
   "metadata": {},
   "outputs": [],
   "source": [
    "new_table = new_table[~new_table['Migration'].str.match('^Mid-[0-9]{4} Population Estimate$')].copy()"
   ]
  },
  {
   "cell_type": "code",
   "execution_count": null,
   "metadata": {},
   "outputs": [],
   "source": [
    "new_table.count()"
   ]
  },
  {
   "cell_type": "code",
   "execution_count": null,
   "metadata": {},
   "outputs": [],
   "source": [
    "new_table.head()"
   ]
  },
  {
   "cell_type": "code",
   "execution_count": null,
   "metadata": {},
   "outputs": [],
   "source": [
    "new_table['OBS'].replace('', pd.np.nan, inplace=True)\n",
    "new_table.dropna(subset=['OBS'], inplace=True)\n",
    "new_table['Value'] = new_table['OBS'].astype(int)\n",
    "new_table.head()"
   ]
  },
  {
   "cell_type": "code",
   "execution_count": null,
   "metadata": {},
   "outputs": [],
   "source": [
    "new_table['Mid Year'] = new_table['Mid Year'].str.replace(r'^Mid-([0-9]{4}) to Mid-([0-9]{4})\\s*$',\n",
    "                                                      lambda m: f\"{m.group(1)}-06-30T00:00:00/P1Y\")"
   ]
  },
  {
   "cell_type": "code",
   "execution_count": null,
   "metadata": {},
   "outputs": [],
   "source": [
    "new_table = new_table[['Mid Year','Geography','Migration','Flow','Measure Type','Value','Unit']]"
   ]
  },
  {
   "cell_type": "code",
   "execution_count": null,
   "metadata": {},
   "outputs": [],
   "source": [
    "new_table.head()"
   ]
  },
  {
   "cell_type": "code",
   "execution_count": null,
   "metadata": {},
   "outputs": [],
   "source": [
    "destinationFolder = Path('out')\n",
    "destinationFolder.mkdir(exist_ok=True, parents=True)\n",
    "\n",
    "new_table.to_csv(destinationFolder / ('migrationflows.csv'), index = False)"
   ]
  },
  {
   "cell_type": "code",
   "execution_count": null,
   "metadata": {},
   "outputs": [],
   "source": [
    "writeMetadata(metadata, 'ONS Local Area Migration Indicators', 'Migration')"
   ]
  },
  {
   "cell_type": "code",
   "execution_count": null,
   "metadata": {},
   "outputs": [],
   "source": [
    "new_table.count()"
   ]
  }
 ],
 "metadata": {
  "kernelspec": {
   "display_name": "Python 3",
   "language": "python",
   "name": "python3"
  },
  "language_info": {
   "codemirror_mode": {
    "name": "ipython",
    "version": 3
   },
   "file_extension": ".py",
   "mimetype": "text/x-python",
   "name": "python",
   "nbconvert_exporter": "python",
   "pygments_lexer": "ipython3",
   "version": "3.6.6"
  }
 },
 "nbformat": 4,
 "nbformat_minor": 2
}
